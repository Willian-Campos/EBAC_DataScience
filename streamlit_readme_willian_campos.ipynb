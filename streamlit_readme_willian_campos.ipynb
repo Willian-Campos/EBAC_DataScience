{
 "cells": [
  {
   "cell_type": "code",
   "execution_count": 1,
   "id": "b6bc1780",
   "metadata": {},
   "outputs": [],
   "source": [
    "import streamlit as st\n",
    "import seaborn as sns\n",
    "import matplotlib.pyplot as plt\n",
    "import pandas as pd\n",
    "import numpy as np\n",
    "\n",
    "df = pd.read_csv(\"C:\\\\Users\\\\Bill_\\\\Desktop\\\\Projetos\\\\EBAC\\\\DataScience\\\\Modulo 16 - Pandas e Projeto\\\\previsao_de_renda.csv\") # Carregando o quadro de dados para previsão de rendas\n",
    "df = df.drop('sexo', axis = 1) # Removendo colunas de não interesse (devido a LGPD)\n",
    "df = df.drop(['Unnamed: 0', 'data_ref', 'id_cliente'], axis=1) # Colunas que não vão ajudar em nada nas análises\n",
    "#\n",
    "filtro_nulo = df['tempo_emprego'].isnull() # Salvando os valores nulos como True/False\n",
    "df_nulo_renda = df[filtro_nulo][['tempo_emprego', 'tipo_renda','renda']] # Pegando os valores True(nulos) junto com as demais colunas\n",
    "#\n",
    "def gerar_intervalos_e_rotulos(margem, limite):\n",
    "    \n",
    "    ''' Aqui é um verificador para que não sobre a margem na hora de adicionar o ultimo elemento,\n",
    "    então se fosse sobrar margem, aqui aumenta o limite para a divisao de limite e margem de zero\n",
    "    independente do valor que for passado para eles.'''\n",
    "    if limite % margem != 0: # Verifica resto da divisão\n",
    "        limite_c_margem = (limite - (limite % margem)) + margem # Altera para o próximo valor divisivel por margem\n",
    "    else:\n",
    "        limite_c_margem = limite # Mantem o valor caso a divisão seja inteira\n",
    "\n",
    "    i = 0 \n",
    "    intervalos = []\n",
    "    rotulos = []\n",
    "\n",
    "    while i <= limite_c_margem:\n",
    "        intervalos.append(i) # Adiciona os valores de intervalo de acordo com a margem\n",
    "        ''' Esse if serve para verificar o ultimo elemento do rotulo e colocar o simbolo de \n",
    "        infinito para cima que é o \"+\" caso caia no else'''\n",
    "        if i < limite_c_margem:\n",
    "            rotulos.append(f'{i}-{i + margem}') # Adiciona os rotulos, exemplo 500-1000 ou 300-600\n",
    "        else:\n",
    "            rotulos.append(f'{i}+') # Adiciona o ultimo elemento do rotulo e o simbolo +, define sem limite superior\n",
    "        i = i + margem\n",
    "    intervalos.append(float('inf')) # Adiciona por ultimo 'inf' que é infinito, sem limite superior\n",
    "    \n",
    "    return intervalos, rotulos # Retorna as listas\n",
    "#\n",
    "df_clone = df.copy() # Gerando um DF novo pra poder mexer sem alterar o original\n",
    "intervalos, rotulos = gerar_intervalos_e_rotulos(1000, 9000) # Passando os valores pra função\n",
    "'''Criando a coluna renda_intervalo com intervalos dos valores de renda, esses intervalos\n",
    "vão ser divididos conforme o valor de intervalos e cada pedaço criado vai ser preenchido\n",
    "pelo valor de rotulos, o right serve para excluir o limite superior, então a margem vai incluir\n",
    "o limite inferior.'''\n",
    "df_clone['renda_intervalo'] = pd.cut(df_clone['renda'], bins=intervalos, labels=rotulos, right=False)\n",
    "\n",
    "# Crie uma tabela de informações cruzadas usando pd.crosstab(), margins=True inclui os totais\n",
    "info_cross = pd.crosstab(\n",
    "    index=df_clone['posse_de_veiculo'],\n",
    "    columns=df_clone['renda_intervalo'], \n",
    "    margins=True)\n",
    "info_cross"
   ]
  }
 ],
 "metadata": {
  "kernelspec": {
   "display_name": "Python 3 (ipykernel)",
   "language": "python",
   "name": "python3"
  },
  "language_info": {
   "codemirror_mode": {
    "name": "ipython",
    "version": 3
   },
   "file_extension": ".py",
   "mimetype": "text/x-python",
   "name": "python",
   "nbconvert_exporter": "python",
   "pygments_lexer": "ipython3",
   "version": "3.11.4"
  }
 },
 "nbformat": 4,
 "nbformat_minor": 5
}
