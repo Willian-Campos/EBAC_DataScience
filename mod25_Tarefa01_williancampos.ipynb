{
 "cells": [
  {
   "cell_type": "markdown",
   "id": "821b7b25",
   "metadata": {},
   "source": [
    "# Cálculo - Tarefa 01\n",
    "\n",
    "1. Marque quais desses métodos/algoritmos muito populares em ciência de dados são baseados no uso de derivada:\n",
    "\n",
    "    1. Método Mínimos Quadrados\n",
    "    2. Gradiente descendente\n",
    "    3. Newton Raphson\n",
    "    4. CART (Árvore de decisão)"
   ]
  },
  {
   "cell_type": "markdown",
   "id": "a09c8a1f",
   "metadata": {},
   "source": [
    "### Resposta Exercício 1 <br>\n",
    "\n",
    " ##### 1 - Minimiza a soma dos quadrados das diferenças entre os valores observados e previstos, não baseado em derivadas.\n",
    "\n",
    "##### 2 - O gradiente indica a direção e taxa de maior crescimento da função, fazendo ajustes para encontrar o melhor resultado, é baseado no cálculo do gradiente que é uma generalização das derivadas(parciais).\n",
    "\n",
    "##### 3 - Utiliza derivadas para encontrar raízes ded uma equação. Usa a informação da primeira derivada para ajustar iterativamente a solução.\n",
    "\n",
    "##### 4 - As árvores de decisão não são baseadas em derivadas, utilizam regras de decisão como a escolha de variáveis e pontos de divisão dos nós que melhoram a pureza das folhas."
   ]
  },
  {
   "cell_type": "markdown",
   "id": "00d1a7d2",
   "metadata": {},
   "source": [
    "2. Dada uma base de dados com uma variável resposta $y$ e um conjunto de variáveis explicativas. Considere uma estrutura de um modelo de regressão. Explique com suas palavras por que não é possível obter parâmetros que forneçam um erro quadrático médio (EQM) menor que o obtido com estimadores de mínimos quadrados."
   ]
  },
  {
   "cell_type": "markdown",
   "id": "5312065d",
   "metadata": {},
   "source": [
    "### Resposta Exercício 2 <br>\n",
    "##### O EQM é a média dos quadrados dos resíduos, usado para avaliar o quão bem o modelo se ajusta aos dados observados, enquanto os mínimos quadrados são a diferença dos valores observados e valores preditos pelo modelo. Isso significa que os estimadores de mínimo quadrado fornecem os valores dos parâmetros do modelo que minimizam a função de perda quadrática, e não existe outro conjunto de parâmetros que forneça um valor menor para a soma dos quadrados dos resíduos, sendo qualquer outra tentativa de encontrar outros parâmetros resultaria em uma função de perda maior ou igual na melhor das hipoteses."
   ]
  }
 ],
 "metadata": {
  "kernelspec": {
   "display_name": "Python 3 (ipykernel)",
   "language": "python",
   "name": "python3"
  },
  "language_info": {
   "codemirror_mode": {
    "name": "ipython",
    "version": 3
   },
   "file_extension": ".py",
   "mimetype": "text/x-python",
   "name": "python",
   "nbconvert_exporter": "python",
   "pygments_lexer": "ipython3",
   "version": "3.11.4"
  }
 },
 "nbformat": 4,
 "nbformat_minor": 5
}
