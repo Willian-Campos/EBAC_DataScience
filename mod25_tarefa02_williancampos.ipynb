{
 "cells": [
  {
   "cell_type": "markdown",
   "metadata": {},
   "source": [
    "# Cálculo - Tarefa 02\n",
    "\n",
    "1- Calcule de forma numérica a integral da função $x^3$ avaliada entre os pontos $1$ e $2$. Identifique o número de retângulos que você usou.  \n",
    "2- Calcule essa área de forma analítica."
   ]
  },
  {
   "cell_type": "markdown",
   "metadata": {},
   "source": [
    "#### Soma de Riemann para usar de referência<br>\n",
    "∫ \n",
    "1\n",
    "2\n",
    "​\n",
    " x \n",
    "3\n",
    " dx≈∑ \n",
    "i=1\n",
    "n\n",
    "​\n",
    " (x \n",
    "i\n",
    "​\n",
    " ) \n",
    "3\n",
    " Δx"
   ]
  },
  {
   "cell_type": "markdown",
   "metadata": {},
   "source": [
    "#### Será usado n = 4 para essa aproximação."
   ]
  },
  {
   "cell_type": "code",
   "execution_count": 27,
   "metadata": {},
   "outputs": [],
   "source": [
    "n = 50\n",
    "a = 1\n",
    "b = 2"
   ]
  },
  {
   "cell_type": "markdown",
   "metadata": {},
   "source": [
    "#### Formula das larguras\n",
    "Δx= (b-a) / n"
   ]
  },
  {
   "cell_type": "markdown",
   "metadata": {},
   "source": [
    "#### Sendo assim fica:\n"
   ]
  },
  {
   "cell_type": "code",
   "execution_count": 28,
   "metadata": {},
   "outputs": [
    {
     "name": "stdout",
     "output_type": "stream",
     "text": [
      "Δx = 0.02\n"
     ]
    }
   ],
   "source": [
    "delta_x = (b-a) / n\n",
    "print(f'Δx = {delta_x}')"
   ]
  },
  {
   "cell_type": "markdown",
   "metadata": {},
   "source": [
    "#### Formula para os subintervalos, onde i é o numero de subintervalos\n",
    "xi = a + i * Δx"
   ]
  },
  {
   "cell_type": "code",
   "execution_count": 29,
   "metadata": {},
   "outputs": [
    {
     "name": "stdout",
     "output_type": "stream",
     "text": [
      "Subintervalos de 1 a N, sendo denotado por i:\n"
     ]
    },
    {
     "data": {
      "text/plain": [
       "{'x1': 1.02,\n",
       " 'x2': 1.04,\n",
       " 'x3': 1.06,\n",
       " 'x4': 1.08,\n",
       " 'x5': 1.1,\n",
       " 'x6': 1.12,\n",
       " 'x7': 1.1400000000000001,\n",
       " 'x8': 1.16,\n",
       " 'x9': 1.18,\n",
       " 'x10': 1.2,\n",
       " 'x11': 1.22,\n",
       " 'x12': 1.24,\n",
       " 'x13': 1.26,\n",
       " 'x14': 1.28,\n",
       " 'x15': 1.3,\n",
       " 'x16': 1.32,\n",
       " 'x17': 1.34,\n",
       " 'x18': 1.3599999999999999,\n",
       " 'x19': 1.38,\n",
       " 'x20': 1.4,\n",
       " 'x21': 1.42,\n",
       " 'x22': 1.44,\n",
       " 'x23': 1.46,\n",
       " 'x24': 1.48,\n",
       " 'x25': 1.5,\n",
       " 'x26': 1.52,\n",
       " 'x27': 1.54,\n",
       " 'x28': 1.56,\n",
       " 'x29': 1.58,\n",
       " 'x30': 1.6,\n",
       " 'x31': 1.62,\n",
       " 'x32': 1.6400000000000001,\n",
       " 'x33': 1.6600000000000001,\n",
       " 'x34': 1.6800000000000002,\n",
       " 'x35': 1.7000000000000002,\n",
       " 'x36': 1.72,\n",
       " 'x37': 1.74,\n",
       " 'x38': 1.76,\n",
       " 'x39': 1.78,\n",
       " 'x40': 1.8,\n",
       " 'x41': 1.82,\n",
       " 'x42': 1.8399999999999999,\n",
       " 'x43': 1.8599999999999999,\n",
       " 'x44': 1.88,\n",
       " 'x45': 1.9,\n",
       " 'x46': 1.92,\n",
       " 'x47': 1.94,\n",
       " 'x48': 1.96,\n",
       " 'x49': 1.98,\n",
       " 'x50': 2.0}"
      ]
     },
     "execution_count": 29,
     "metadata": {},
     "output_type": "execute_result"
    }
   ],
   "source": [
    "xi = {}\n",
    "i = 1\n",
    "\n",
    "while i <= n:\n",
    "    xi[f'x{i}'] = a + i * (delta_x)\n",
    "    i = i + 1\n",
    "print('Subintervalos de 1 a N, sendo denotado por i:')\n",
    "xi\n"
   ]
  },
  {
   "cell_type": "markdown",
   "metadata": {},
   "source": [
    "#### Soma de Riemann para exemplo, usando N = 4\n",
    "≈(1.25) \n",
    "3\n",
    " ×0.25+(1.5) \n",
    "3\n",
    " ×0.25+(1.75) \n",
    "3\n",
    " ×0.25+(2) \n",
    "3\n",
    " ×0.25"
   ]
  },
  {
   "cell_type": "markdown",
   "metadata": {},
   "source": [
    "≈((x1 + delta_x) ** 3) + ((x2 + delta_x) ** 3) ... N, onde N está em 50 retângulos até alcançar o valor de B usando o delta X"
   ]
  },
  {
   "cell_type": "code",
   "execution_count": 30,
   "metadata": {},
   "outputs": [
    {
     "data": {
      "text/plain": [
       "3.8203"
      ]
     },
     "execution_count": 30,
     "metadata": {},
     "output_type": "execute_result"
    }
   ],
   "source": [
    "i = 1\n",
    "riemann = 0\n",
    "while i <= n:\n",
    "    riemann = riemann + (xi[f'x{i}'] ** 3) * delta_x\n",
    "    i+=1\n",
    "    \n",
    "riemann"
   ]
  },
  {
   "cell_type": "markdown",
   "metadata": {},
   "source": [
    "### 1- Calcule de forma numérica a integral da função $x^3$ avaliada entre os pontos $1$ e $2$. Identifique o número de retângulos que você usou.  "
   ]
  },
  {
   "cell_type": "markdown",
   "metadata": {},
   "source": [
    "##### Ao usar 50 subconjuntos (50 retângulos) a integral tem o valor de 3.8203"
   ]
  },
  {
   "cell_type": "markdown",
   "metadata": {},
   "source": [
    "### 2- Calcule essa área de forma analítica."
   ]
  },
  {
   "cell_type": "code",
   "execution_count": null,
   "metadata": {},
   "outputs": [],
   "source": [
    "Calcule essa área de forma analítica"
   ]
  },
  {
   "cell_type": "code",
   "execution_count": 45,
   "metadata": {},
   "outputs": [
    {
     "data": {
      "text/plain": [
       "3.75"
      ]
     },
     "execution_count": 45,
     "metadata": {},
     "output_type": "execute_result"
    }
   ],
   "source": [
    "a = 1\n",
    "b = 2\n",
    "exp = 3\n",
    "\n",
    "'''A constante 4 no denominador vem da regra de potência para integrais. Quando integra x**3, \n",
    "adiciona 1 ao expoente e divide pelo novo expoente. Neste caso, ao integrar x**3, é adicionado 1 a 3, \n",
    "obtendo 4, e divide pelo novo expoente 4.'''\n",
    "integral_a1_b2_x3 = (((b**(exp+1))) / (exp+1)) - (((a**(exp+1))) / (exp+1))\n",
    "integral_a1_b2_x3\n"
   ]
  },
  {
   "cell_type": "markdown",
   "metadata": {},
   "source": [
    "Portanto, a integral definida acima com os limites a e b e sua função, representa a área sob a curva de x³ no intervalo de 1 a 2, sendo 3.75."
   ]
  }
 ],
 "metadata": {
  "kernelspec": {
   "display_name": "Python 3 (ipykernel)",
   "language": "python",
   "name": "python3"
  },
  "language_info": {
   "codemirror_mode": {
    "name": "ipython",
    "version": 3
   },
   "file_extension": ".py",
   "mimetype": "text/x-python",
   "name": "python",
   "nbconvert_exporter": "python",
   "pygments_lexer": "ipython3",
   "version": "3.11.4"
  },
  "toc": {
   "base_numbering": 1,
   "nav_menu": {},
   "number_sections": true,
   "sideBar": true,
   "skip_h1_title": true,
   "title_cell": "Índice",
   "title_sidebar": "Conteúdo",
   "toc_cell": false,
   "toc_position": {},
   "toc_section_display": true,
   "toc_window_display": false
  },
  "varInspector": {
   "cols": {
    "lenName": 16,
    "lenType": 16,
    "lenVar": 40
   },
   "kernels_config": {
    "python": {
     "delete_cmd_postfix": "",
     "delete_cmd_prefix": "del ",
     "library": "var_list.py",
     "varRefreshCmd": "print(var_dic_list())"
    },
    "r": {
     "delete_cmd_postfix": ") ",
     "delete_cmd_prefix": "rm(",
     "library": "var_list.r",
     "varRefreshCmd": "cat(var_dic_list()) "
    }
   },
   "types_to_exclude": [
    "module",
    "function",
    "builtin_function_or_method",
    "instance",
    "_Feature"
   ],
   "window_display": false
  }
 },
 "nbformat": 4,
 "nbformat_minor": 4
}
