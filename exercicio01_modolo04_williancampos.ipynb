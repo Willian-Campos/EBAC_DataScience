{
 "cells": [
  {
   "cell_type": "markdown",
   "metadata": {},
   "source": [
    "# Tarefa 01\n",
    "\n",
    "- Leia os enunciados com atenção\n",
    "- Saiba que pode haver mais de uma resposta correta\n",
    "- Insira novas células de código sempre que achar necessário\n",
    "- Em caso de dúvidas, procure os tutores\n",
    "- Divirta-se :)\n",
    "\n",
    "#### 1)  crie uma série do pandas a partir de uma lista com os dados abaixo:\n",
    "\n",
    "Em um estudo sobre alteração na tempreatura global, A NASA disponibiliza dados de diferenças de de temperatura média da superfície terrestre relativos às médias de temperatura entre 1951 e 1980. Os dados originais podem ser vistos no site da NASA/GISS, e estão dispostos a cada década na tabela abaixo.\n",
    "\n",
    "|ano|anomalia termica|\n",
    "|:-:|:----:|\n",
    "| 1900 | -0.08 |\n",
    "| 1920 | -0.27 |\n",
    "| 1940 | 0.12 |\n",
    "| 1960 | -0.03 |\n",
    "| 1980 | 0.26 |\n",
    "| 2000 | 0.40 |\n",
    "| 2020 | 1.02 |\n",
    "\n",
    "Crie uma séries do Pandas a partir de uma lista com esses dados."
   ]
  },
  {
   "cell_type": "code",
   "execution_count": 10,
   "metadata": {},
   "outputs": [
    {
     "name": "stdout",
     "output_type": "stream",
     "text": [
      "0   -0.08\n",
      "1   -0.27\n",
      "2    0.12\n",
      "3   -0.03\n",
      "4    0.26\n",
      "5    0.40\n",
      "6    1.02\n",
      "dtype: float64\n"
     ]
    }
   ],
   "source": [
    "import pandas as pd\n",
    "import numpy as np\n",
    "\n",
    "# Seu código aqui\n",
    "anos = [1900, 1920, 1940, 1960, 1980, 2000, 2020]\n",
    "anomalia_termica = [-0.08, -0.27, 0.12, -0.03, 0.26, 0.40, 1.02]\n",
    "anomalia_termica_se = pd.Series(data=anomalia_termica)\n",
    "print(anomalia_termica_se)"
   ]
  },
  {
   "cell_type": "markdown",
   "metadata": {},
   "source": [
    "#### 2) Coloque os anos nos índices conforme a tabela."
   ]
  },
  {
   "cell_type": "code",
   "execution_count": 16,
   "metadata": {},
   "outputs": [
    {
     "name": "stdout",
     "output_type": "stream",
     "text": [
      "1900   -0.08\n",
      "1920   -0.27\n",
      "1940    0.12\n",
      "1960   -0.03\n",
      "1980    0.26\n",
      "2000    0.40\n",
      "2020    1.02\n",
      "dtype: float64\n"
     ]
    }
   ],
   "source": [
    "\n",
    "# seu código aqui\n",
    "anomalia_termica_se = pd.Series(data=anomalia_termica, index=anos)\n",
    "print(anomalia_termica_se)\n"
   ]
  },
  {
   "cell_type": "markdown",
   "metadata": {},
   "source": [
    "#### 3) A partir do dicionário abaixo, crie uma séries do Pandas:"
   ]
  },
  {
   "cell_type": "code",
   "execution_count": 17,
   "metadata": {},
   "outputs": [
    {
     "name": "stdout",
     "output_type": "stream",
     "text": [
      "1900   -0.08\n",
      "1920   -0.27\n",
      "1940    0.12\n",
      "1960   -0.03\n",
      "1980    0.26\n",
      "2000    0.40\n",
      "2020    1.02\n",
      "dtype: float64\n"
     ]
    }
   ],
   "source": [
    "dic_temperaturas = {1900: -.08, 1920: -.27, 1940: .12, 1960: -.03, 1980: .26, 2000: .40, 2020: 1.02}\n",
    "\n",
    "# seu código aqui\n",
    "temperaturas_se = pd.Series(data=dic_temperaturas)\n",
    "print(temperaturas_se)"
   ]
  },
  {
   "cell_type": "markdown",
   "metadata": {},
   "source": [
    "#### 4) Transforme o ndarray abaixo em um dataframe. \n",
    "O numpy é capaz de gerar arrays n-dimensionais com números pseudo-aleatórios de acordo com uma variedade de distribuições, como no exemplo abaixo. Transforme esse nd-array em um DataFrame."
   ]
  },
  {
   "cell_type": "code",
   "execution_count": 19,
   "metadata": {},
   "outputs": [
    {
     "name": "stdout",
     "output_type": "stream",
     "text": [
      "             0           1           2\n",
      "0    97.581255   90.078875  106.342720\n",
      "1   100.957876  104.788695   98.549708\n",
      "2    98.387106   99.380213   99.565294\n",
      "3   107.820320  107.090059  125.552332\n",
      "4    89.664462   85.977141  115.397071\n",
      "5   118.622342  104.227668  102.861497\n",
      "6    95.070800  109.046279  109.556247\n",
      "7   126.038651  107.719979  101.256616\n",
      "8    83.166607  111.740759   97.711809\n",
      "9    85.632636  110.871522  104.132046\n",
      "10   96.550510  104.723789  101.684660\n",
      "11   89.869461   99.169039  105.645761\n",
      "12   98.649996   95.079001   93.592312\n",
      "13   85.068156  106.615548  106.957816\n",
      "14   99.346269  120.886875   86.659180\n",
      "15  101.558800   91.596312   85.542135\n",
      "16  101.928180   93.157193   97.000368\n",
      "17   99.283641   96.362006   93.712597\n",
      "18   95.227756  102.861697   97.063531\n",
      "19  117.453156   93.212530  100.725682\n"
     ]
    }
   ],
   "source": [
    "arr = np.random.normal(100, 10, (20,3))\n",
    "\n",
    "# seu código aqui\n",
    "df_arr = pd.DataFrame(arr)\n",
    "print(df_arr)"
   ]
  },
  {
   "cell_type": "markdown",
   "metadata": {},
   "source": [
    "#### 5) Nomeie os índices das linhas com inteiros de 1 a 20, e as colunas com os nomes \"x1\", \"x2\", e \"x3\" respectivamente."
   ]
  },
  {
   "cell_type": "code",
   "execution_count": 24,
   "metadata": {},
   "outputs": [
    {
     "name": "stdout",
     "output_type": "stream",
     "text": [
      "            x1          x2          x3\n",
      "1    97.581255   90.078875  106.342720\n",
      "2   100.957876  104.788695   98.549708\n",
      "3    98.387106   99.380213   99.565294\n",
      "4   107.820320  107.090059  125.552332\n",
      "5    89.664462   85.977141  115.397071\n",
      "6   118.622342  104.227668  102.861497\n",
      "7    95.070800  109.046279  109.556247\n",
      "8   126.038651  107.719979  101.256616\n",
      "9    83.166607  111.740759   97.711809\n",
      "10   85.632636  110.871522  104.132046\n",
      "11   96.550510  104.723789  101.684660\n",
      "12   89.869461   99.169039  105.645761\n",
      "13   98.649996   95.079001   93.592312\n",
      "14   85.068156  106.615548  106.957816\n",
      "15   99.346269  120.886875   86.659180\n",
      "16  101.558800   91.596312   85.542135\n",
      "17  101.928180   93.157193   97.000368\n",
      "18   99.283641   96.362006   93.712597\n",
      "19   95.227756  102.861697   97.063531\n",
      "20  117.453156   93.212530  100.725682\n"
     ]
    }
   ],
   "source": [
    "#seu código aqui\n",
    "df_arr = df_arr.set_index(pd.Index(['1', '2', '3', '4', '5', '6', '7', '8', '9', '10', '11', '12', '13',\n",
    "                                   '14', '15', '16', '17', '18', '19', '20']))\n",
    "df_arr.columns = ['x1', 'x2', 'x3']\n",
    "print(df_arr)\n"
   ]
  },
  {
   "cell_type": "markdown",
   "metadata": {},
   "source": [
    "#### 6) No DataFrame do exercício 5, crie uma nova coluna como sendo a média das três colunas, e dê a ela o nome de \"media\" (não recomendo colocar acentos em nomes de variáveis)."
   ]
  },
  {
   "cell_type": "code",
   "execution_count": 26,
   "metadata": {},
   "outputs": [
    {
     "name": "stdout",
     "output_type": "stream",
     "text": [
      "            x1          x2          x3       media\n",
      "1    97.581255   90.078875  106.342720   98.000950\n",
      "2   100.957876  104.788695   98.549708  101.432093\n",
      "3    98.387106   99.380213   99.565294   99.110871\n",
      "4   107.820320  107.090059  125.552332  113.487570\n",
      "5    89.664462   85.977141  115.397071   97.012892\n",
      "6   118.622342  104.227668  102.861497  108.570502\n",
      "7    95.070800  109.046279  109.556247  104.557776\n",
      "8   126.038651  107.719979  101.256616  111.671748\n",
      "9    83.166607  111.740759   97.711809   97.539725\n",
      "10   85.632636  110.871522  104.132046  100.212068\n",
      "11   96.550510  104.723789  101.684660  100.986320\n",
      "12   89.869461   99.169039  105.645761   98.228087\n",
      "13   98.649996   95.079001   93.592312   95.773770\n",
      "14   85.068156  106.615548  106.957816   99.547173\n",
      "15   99.346269  120.886875   86.659180  102.297441\n",
      "16  101.558800   91.596312   85.542135   92.899083\n",
      "17  101.928180   93.157193   97.000368   97.361914\n",
      "18   99.283641   96.362006   93.712597   96.452748\n",
      "19   95.227756  102.861697   97.063531   98.384328\n",
      "20  117.453156   93.212530  100.725682  103.797123\n"
     ]
    }
   ],
   "source": [
    "# seu código aqui\n",
    "df_arr['media'] = (df_arr['x1']+df_arr['x2']+df_arr['x3'])/3\n",
    "print(df_arr)"
   ]
  },
  {
   "cell_type": "markdown",
   "metadata": {},
   "source": [
    "#### 7) No DataFrame do exercício 6, crie uma nova coluna chamada \"log_med\", contendo o logaritmo natural da média calculada no exercício 6 <br>"
   ]
  },
  {
   "cell_type": "code",
   "execution_count": 27,
   "metadata": {},
   "outputs": [
    {
     "name": "stdout",
     "output_type": "stream",
     "text": [
      "            x1          x2          x3       media   log_med\n",
      "1    97.581255   90.078875  106.342720   98.000950  4.584977\n",
      "2   100.957876  104.788695   98.549708  101.432093  4.619390\n",
      "3    98.387106   99.380213   99.565294   99.110871  4.596239\n",
      "4   107.820320  107.090059  125.552332  113.487570  4.731693\n",
      "5    89.664462   85.977141  115.397071   97.012892  4.574844\n",
      "6   118.622342  104.227668  102.861497  108.570502  4.687400\n",
      "7    95.070800  109.046279  109.556247  104.557776  4.649740\n",
      "8   126.038651  107.719979  101.256616  111.671748  4.715564\n",
      "9    83.166607  111.740759   97.711809   97.539725  4.580260\n",
      "10   85.632636  110.871522  104.132046  100.212068  4.607289\n",
      "11   96.550510  104.723789  101.684660  100.986320  4.614985\n",
      "12   89.869461   99.169039  105.645761   98.228087  4.587292\n",
      "13   98.649996   95.079001   93.592312   95.773770  4.561989\n",
      "14   85.068156  106.615548  106.957816   99.547173  4.600632\n",
      "15   99.346269  120.886875   86.659180  102.297441  4.627885\n",
      "16  101.558800   91.596312   85.542135   92.899083  4.531514\n",
      "17  101.928180   93.157193   97.000368   97.361914  4.578435\n",
      "18   99.283641   96.362006   93.712597   96.452748  4.569053\n",
      "19   95.227756  102.861697   97.063531   98.384328  4.588882\n",
      "20  117.453156   93.212530  100.725682  103.797123  4.642438\n"
     ]
    }
   ],
   "source": [
    "# seu código aqui\n",
    "df_arr['log_med'] = np.log(df_arr['media'])\n",
    "print(df_arr)"
   ]
  },
  {
   "cell_type": "code",
   "execution_count": null,
   "metadata": {},
   "outputs": [],
   "source": []
  }
 ],
 "metadata": {
  "kernelspec": {
   "display_name": "Python 3 (ipykernel)",
   "language": "python",
   "name": "python3"
  },
  "language_info": {
   "codemirror_mode": {
    "name": "ipython",
    "version": 3
   },
   "file_extension": ".py",
   "mimetype": "text/x-python",
   "name": "python",
   "nbconvert_exporter": "python",
   "pygments_lexer": "ipython3",
   "version": "3.10.9"
  }
 },
 "nbformat": 4,
 "nbformat_minor": 4
}
