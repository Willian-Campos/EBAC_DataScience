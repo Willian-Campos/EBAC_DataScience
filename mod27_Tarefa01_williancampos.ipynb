{
 "cells": [
  {
   "cell_type": "markdown",
   "metadata": {},
   "source": [
    "# PCA - Tarefa 01: *HAR* com PCA\n",
    "\n",
    "Vamos trabalhar com a base da demonstração feita em aula, mas vamos explorar um pouco melhor como é o desempenho da árvore variando o número de componentes principais."
   ]
  },
  {
   "cell_type": "code",
   "execution_count": 23,
   "metadata": {},
   "outputs": [],
   "source": [
    "import pandas as pd\n",
    "\n",
    "from sklearn.tree import DecisionTreeClassifier\n",
    "from sklearn.ensemble import RandomForestClassifier\n",
    "\n",
    "from sklearn.decomposition import PCA\n",
    "from sklearn.metrics import accuracy_score\n",
    "from sklearn.model_selection import cross_val_score\n",
    "from sklearn.model_selection import GridSearchCV"
   ]
  },
  {
   "cell_type": "code",
   "execution_count": 2,
   "metadata": {
    "scrolled": true
   },
   "outputs": [
    {
     "name": "stderr",
     "output_type": "stream",
     "text": [
      "C:\\Users\\Bill_\\AppData\\Local\\Temp\\ipykernel_5676\\2810470092.py:12: FutureWarning: The squeeze argument has been deprecated and will be removed in a future version. Append .squeeze(\"columns\") to the call to squeeze.\n",
      "\n",
      "\n",
      "  features = pd.read_csv(filename_features, header=None, names=['nome_var'], squeeze=True, sep=\"#\")\n",
      "C:\\Users\\Bill_\\AppData\\Local\\Temp\\ipykernel_5676\\2810470092.py:15: FutureWarning: The squeeze argument has been deprecated and will be removed in a future version. Append .squeeze(\"columns\") to the call to squeeze.\n",
      "\n",
      "\n",
      "  subject_train = pd.read_csv(filename_subtrain, header=None, names=['subject_id'], squeeze=True)\n",
      "C:\\Users\\Bill_\\AppData\\Local\\Temp\\ipykernel_5676\\2810470092.py:19: FutureWarning: The squeeze argument has been deprecated and will be removed in a future version. Append .squeeze(\"columns\") to the call to squeeze.\n",
      "\n",
      "\n",
      "  subject_test = pd.read_csv(filename_subtest, header=None, names=['subject_id'], squeeze=True)\n"
     ]
    }
   ],
   "source": [
    "filename_features = r\"C:\\Users\\Bill_\\Desktop\\Projetos\\EBAC\\DataScience\\Modulo 27 - PCA\\UCI HAR Dataset\\features.txt\"\n",
    "filename_labels = r\"C:\\Users\\Bill_\\Desktop\\Projetos\\EBAC\\DataScience\\Modulo 27 - PCA\\UCI HAR Dataset\\activity_labels.txt\"\n",
    "\n",
    "filename_subtrain = r\"C:\\Users\\Bill_\\Desktop\\Projetos\\EBAC\\DataScience\\Modulo 27 - PCA\\UCI HAR Dataset\\train\\subject_train.txt\"\n",
    "filename_xtrain = r\"C:\\Users\\Bill_\\Desktop\\Projetos\\EBAC\\DataScience\\Modulo 27 - PCA\\UCI HAR Dataset\\train\\X_train.txt\"\n",
    "filename_ytrain = r\"C:\\Users\\Bill_\\Desktop\\Projetos\\EBAC\\DataScience\\Modulo 27 - PCA\\UCI HAR Dataset\\train\\y_train.txt\"\n",
    "\n",
    "filename_subtest = r\"C:\\Users\\Bill_\\Desktop\\Projetos\\EBAC\\DataScience\\Modulo 27 - PCA\\UCI HAR Dataset\\test\\subject_test.txt\"\n",
    "ffilename_xtest = r\"C:\\Users\\Bill_\\Desktop\\Projetos\\EBAC\\DataScience\\Modulo 27 - PCA\\UCI HAR Dataset\\test\\X_test.txt\"\n",
    "filename_ytest = r\"C:\\Users\\Bill_\\Desktop\\Projetos\\EBAC\\DataScience\\Modulo 27 - PCA\\UCI HAR Dataset\\test\\y_test.txt\"\n",
    "\n",
    "features = pd.read_csv(filename_features, header=None, names=['nome_var'], squeeze=True, sep=\"#\")\n",
    "labels = pd.read_csv(filename_labels, delim_whitespace=True, header=None, names=['cod_label', 'label'])\n",
    "\n",
    "subject_train = pd.read_csv(filename_subtrain, header=None, names=['subject_id'], squeeze=True)\n",
    "X_train = pd.read_csv(filename_xtrain, delim_whitespace=True, header=None, names=features.tolist())\n",
    "y_train = pd.read_csv(filename_ytrain, header=None, names=['cod_label'])\n",
    "\n",
    "subject_test = pd.read_csv(filename_subtest, header=None, names=['subject_id'], squeeze=True)\n",
    "X_test = pd.read_csv(ffilename_xtest, delim_whitespace=True, header=None, names=features.tolist())\n",
    "y_test = pd.read_csv(filename_ytest, header=None, names=['cod_label'])"
   ]
  },
  {
   "cell_type": "markdown",
   "metadata": {},
   "source": [
    "## Árvore de decisão\n",
    "\n",
    "Rode uma árvore de decisão com todas as variáveis, utilizando o ```ccp_alpha=0.001```. Avalie a acurácia nas bases de treinamento e teste. Avalie o tempo de processamento."
   ]
  },
  {
   "cell_type": "code",
   "execution_count": 3,
   "metadata": {},
   "outputs": [
    {
     "name": "stdout",
     "output_type": "stream",
     "text": [
      "Acurácia usando os dados de treino: 0.9757889009793254\n",
      "Acurácia usando os dados de teste (não vistos): 0.8802171700033933\n",
      "CPU times: total: 20.5 s\n",
      "Wall time: 20.6 s\n"
     ]
    }
   ],
   "source": [
    "%%time\n",
    "clf = DecisionTreeClassifier(random_state=1, ccp_alpha = 0.001).fit(X_train, y_train)\n",
    "clf.fit(X_train, y_train)\n",
    "\n",
    "# Fazendo predição dos dados\n",
    "y_pred_train = clf.predict(X_train)\n",
    "y_pred_test = clf.predict(X_test)\n",
    "\n",
    "# Medindo a acurácia\n",
    "accuracy_train = accuracy_score(y_train, y_pred_train)\n",
    "accuracy_test = accuracy_score(y_test, y_pred_test)\n",
    "\n",
    "print(f\"Acurácia usando os dados de treino: {accuracy_train}\")\n",
    "print(f\"Acurácia usando os dados de teste (não vistos): {accuracy_test}\")"
   ]
  },
  {
   "cell_type": "markdown",
   "metadata": {},
   "source": [
    "#### As acurácias de treino e teste ficaram bastantes distântes não usando nenhuma outra técnica fora o fator de complexidade aplicado pelo ccp_alpha em 0.001."
   ]
  },
  {
   "cell_type": "markdown",
   "metadata": {},
   "source": [
    "## Árvore com PCA\n",
    "\n",
    "Faça uma análise de componemtes principais das variáveis originais. Utilize apenas uma componente. Faça uma árvore de decisão com esta componente como variável explicativa.\n",
    "\n",
    "- Avalie a acurácia nas bases de treinamento e teste\n",
    "- Avalie o tempo de processamento"
   ]
  },
  {
   "cell_type": "code",
   "execution_count": 4,
   "metadata": {},
   "outputs": [
    {
     "name": "stdout",
     "output_type": "stream",
     "text": [
      "Resultados obtidos usando apenas a feature de maior importância captado pelo PCA:\n",
      "Acurácia usando os dados de treino: 1.0\n",
      "Acurácia usando os dados de teste (não vistos): 0.41024770953512046\n",
      "CPU times: total: 1.41 s\n",
      "Wall time: 297 ms\n"
     ]
    }
   ],
   "source": [
    "%%time\n",
    "# 'Treinando' para capitar o principal componente(feature, coluna) passado por n_components\n",
    "pc_1 = PCA(n_components=1).fit(X_train)\n",
    "\n",
    "# Usando o componante principal captado na etapa de treino para classificar os dados\n",
    "X_train_pca1 = pc_1.transform(X_train)\n",
    "X_test_pca1 = pc_1.transform(X_test)\n",
    "\n",
    "# Criando um modelo de classificação árvore usando o conjunto de dados explicados por 1 feature\n",
    "clf_pca = DecisionTreeClassifier(random_state=1)\n",
    "clf_pca.fit(X_train_pca1, y_train)\n",
    "\n",
    "# Fazendo as predições com a feature mais esplicativa\n",
    "y_pred_train_pca1 = clf_pca.predict(X_train_pca1)\n",
    "y_pred_test_pca1 = clf_pca.predict(X_test_pca1)\n",
    "\n",
    "# Medindo a acurácia após obter as predições usando apenas 1 feature(a que mais trás informações)\n",
    "accuracy_train_pca1 = accuracy_score(y_train, y_pred_train_pca1)\n",
    "accuracy_test_pca1 = accuracy_score(y_test, y_pred_test_pca1)\n",
    "\n",
    "print(\"Resultados obtidos usando apenas a feature de maior importância captado pelo PCA:\")\n",
    "print(f\"Acurácia usando os dados de treino: {accuracy_train_pca1}\")\n",
    "print(f\"Acurácia usando os dados de teste (não vistos): {accuracy_test_pca1}\")"
   ]
  },
  {
   "cell_type": "markdown",
   "metadata": {},
   "source": [
    "#### O resultado foi péssimo, os dados de treino foram 100% enquanto os dados de teste só acertaram 41,10% dos casos, sendo um modelo com overfit muito presente e sendo necessário o uso de mais features."
   ]
  },
  {
   "cell_type": "markdown",
   "metadata": {},
   "source": [
    "## Testando o número de componentes\n",
    "\n",
    "Com base no código acima, teste a árvore de classificação com pelo menos as seguintes possibilidades de quantidades de componentes: ```[1, 2, 5, 10, 50]```. Avalie para cada uma delas:\n",
    "\n",
    "- Acurácia nas bases de treino e teste\n",
    "- Tempo de processamento\n"
   ]
  },
  {
   "cell_type": "code",
   "execution_count": 24,
   "metadata": {},
   "outputs": [
    {
     "name": "stderr",
     "output_type": "stream",
     "text": [
      "C:\\Users\\Bill_\\anaconda3\\Lib\\site-packages\\sklearn\\base.py:1151: DataConversionWarning: A column-vector y was passed when a 1d array was expected. Please change the shape of y to (n_samples,), for example using ravel().\n",
      "  return fit_method(estimator, *args, **kwargs)\n",
      "C:\\Users\\Bill_\\anaconda3\\Lib\\site-packages\\sklearn\\base.py:1151: DataConversionWarning: A column-vector y was passed when a 1d array was expected. Please change the shape of y to (n_samples,), for example using ravel().\n",
      "  return fit_method(estimator, *args, **kwargs)\n",
      "C:\\Users\\Bill_\\anaconda3\\Lib\\site-packages\\sklearn\\base.py:1151: DataConversionWarning: A column-vector y was passed when a 1d array was expected. Please change the shape of y to (n_samples,), for example using ravel().\n",
      "  return fit_method(estimator, *args, **kwargs)\n",
      "C:\\Users\\Bill_\\anaconda3\\Lib\\site-packages\\sklearn\\base.py:1151: DataConversionWarning: A column-vector y was passed when a 1d array was expected. Please change the shape of y to (n_samples,), for example using ravel().\n",
      "  return fit_method(estimator, *args, **kwargs)\n",
      "C:\\Users\\Bill_\\anaconda3\\Lib\\site-packages\\sklearn\\base.py:1151: DataConversionWarning: A column-vector y was passed when a 1d array was expected. Please change the shape of y to (n_samples,), for example using ravel().\n",
      "  return fit_method(estimator, *args, **kwargs)\n"
     ]
    },
    {
     "name": "stdout",
     "output_type": "stream",
     "text": [
      "CPU times: total: 35.6 s\n",
      "Wall time: 27.7 s\n"
     ]
    },
    {
     "data": {
      "text/plain": [
       "{1: {'acurácia teste: 0.41024770953512046',\n",
       "  'acurácia treino: 0.999455930359086'},\n",
       " 2: {'acurácia teste: 0.5503902273498473',\n",
       "  'acurácia treino: 0.9998639825897715'},\n",
       " 5: {'acurácia teste: 0.7960637936884968', 'acurácia treino: 1.0'},\n",
       " 10: {'acurácia teste: 0.8578215134034611', 'acurácia treino: 1.0'},\n",
       " 50: {'acurácia teste: 0.8992195453003053', 'acurácia treino: 1.0'}}"
      ]
     },
     "execution_count": 24,
     "metadata": {},
     "output_type": "execute_result"
    }
   ],
   "source": [
    "%%time\n",
    "\n",
    "# Criando uma lista para iterar os componentes\n",
    "components = [1, 2, 5, 10, 50]\n",
    "acuracia_components = {}\n",
    "\n",
    "for n in components:\n",
    "    # 'Treinando' para capitar os principais componentes(feature, coluna) passado pela lista components\n",
    "    pc_n = PCA(n_components=n).fit(X_train)\n",
    "\n",
    "    # Usando o componante da lista captado na etapa de treino para classificar os dados\n",
    "    X_train_pca_n = pc_n.transform(X_train)\n",
    "    X_test_pca_n = pc_n.transform(X_test)\n",
    "\n",
    "    # Criando um modelo de classificação árvore usando o conjunto de dados explicados por N feature(s)\n",
    "    clf_pca = RandomForestClassifier(random_state=1)\n",
    "    clf_pca.fit(X_train_pca_n, y_train)\n",
    "\n",
    "    y_pred_train_pca_n = clf_pca.predict(X_train_pca_n)\n",
    "    y_pred_test_pca_n = clf_pca.predict(X_test_pca_n)\n",
    "\n",
    "    accuracy_train_pca_n = accuracy_score(y_train, y_pred_train_pca_n)\n",
    "    accuracy_test_pca_n = accuracy_score(y_test, y_pred_test_pca_n)\n",
    "\n",
    "    acuracia_components[n] = {f'acurácia treino: {accuracy_train_pca_n}', \n",
    "                             f'acurácia teste: {accuracy_test_pca_n}'}\n",
    "\n",
    "\n",
    "acuracia_components\n"
   ]
  },
  {
   "cell_type": "markdown",
   "metadata": {},
   "source": [
    "## Conclua\n",
    "\n",
    "- O que aconteceu com a acurácia?\n",
    "- O que aconteceu com o tempo de processamento?"
   ]
  },
  {
   "cell_type": "markdown",
   "metadata": {},
   "source": [
    "#### Como continuei obtendo um treino de 100%, resolvi aplicar um RandomForest para que o modelo ficasse um pouco mais robusto, de acordo com o dicionário mostrado, mesmo com 1 feature a base de treino ainda chega em 99% de precisão e a diferença para a base de teste diminui conforme foi aumentando o número de features. Seria assim necessário outros métodos como cross validation e um grid search nas árvores para ajustar os melhores parâmetros para obter um resultado melhor.\n",
    "\n",
    "#### Já o tempo naturalmente aumenta conforme o número de iterações também aumentam e conforme mais verificações são feitas o aumento do tempo de processamento pode ser exponencial."
   ]
  }
 ],
 "metadata": {
  "kernelspec": {
   "display_name": "Python 3 (ipykernel)",
   "language": "python",
   "name": "python3"
  },
  "language_info": {
   "codemirror_mode": {
    "name": "ipython",
    "version": 3
   },
   "file_extension": ".py",
   "mimetype": "text/x-python",
   "name": "python",
   "nbconvert_exporter": "python",
   "pygments_lexer": "ipython3",
   "version": "3.11.4"
  },
  "toc": {
   "base_numbering": 1,
   "nav_menu": {},
   "number_sections": true,
   "sideBar": true,
   "skip_h1_title": true,
   "title_cell": "Índice",
   "title_sidebar": "Conteúdo",
   "toc_cell": false,
   "toc_position": {},
   "toc_section_display": true,
   "toc_window_display": false
  },
  "varInspector": {
   "cols": {
    "lenName": 16,
    "lenType": 16,
    "lenVar": 40
   },
   "kernels_config": {
    "python": {
     "delete_cmd_postfix": "",
     "delete_cmd_prefix": "del ",
     "library": "var_list.py",
     "varRefreshCmd": "print(var_dic_list())"
    },
    "r": {
     "delete_cmd_postfix": ") ",
     "delete_cmd_prefix": "rm(",
     "library": "var_list.r",
     "varRefreshCmd": "cat(var_dic_list()) "
    }
   },
   "types_to_exclude": [
    "module",
    "function",
    "builtin_function_or_method",
    "instance",
    "_Feature"
   ],
   "window_display": false
  }
 },
 "nbformat": 4,
 "nbformat_minor": 4
}
