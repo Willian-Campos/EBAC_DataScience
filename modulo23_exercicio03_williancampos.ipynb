{
 "cells": [
  {
   "cell_type": "markdown",
   "id": "5f2662d0",
   "metadata": {},
   "source": [
    "# Tarefa 3 \n",
    "### 1.Quais são os hyperparâmetrosdo RF? \n",
    "### 2.Pra que serve cada um deles?"
   ]
  },
  {
   "cell_type": "markdown",
   "id": "409ec6ff",
   "metadata": {},
   "source": [
    "#### n_estimators - É a quantidade de árvores que será utilizada, como padrão 100 árvores são criadas e para cada árvore um novo conjunto é criado na etapa do bootstrap. <br>\n",
    "\n",
    "#### max_depth - As árvores são dividids em nós, cada nó é uma classificação como, tem carro ou não, está ventando ou não, fez sol ou não, é maior ou menor que 533, etc... A classificação mais importante fica no primeiro nó e a árvore se aprofunda para classificações menos importantes até que não tenha mais classificações. O max depth controla a profundidade máxima dos nós, deixar a árvore com todos ou muitos nós pode levar ao overfitting e fazer essa \"poda\" pode ajudar nos resultados.<br>\n",
    "\n",
    "#### min_samples_split - Quando um nó é dividido, as amostras são divididas em seus subconjuntos até que não tenha mais subconjuntos, min_samples_split filtra essa divisão, permitindo que aconteça apenas se tiver um número minimo de amostras, subconjuntos com poucas amostras não ajudam muito a trazer respostas relevantes.<br>\n",
    "\n",
    "#### min_samples_leaf - Aqui é decidico o número minimo de amostras no resultado final, após a divisão de um nó as amostras são divididas e quando não há mais divisões essas amostras são as folhas que vão ajudar a classificar o problema, amostras que tem uma frequencia baixa de mais podem ser ignoradas para ajudar a evitar o overfitting.<br>\n",
    "\n",
    "#### max_features - O max_features limita a quantidade de features (colunas) que vão ser usadas para tomar a decisão de um nó, o nó é uma condição da feature e essa condição pode ter sua resposta por todas as features, o que é o padrão ou pode ser limitado, o que da mais variedade para as árvores.<br>\n",
    "\n",
    "#### bootstrap - Indica que as amostras vão ser escolhidas com reposição, ou seja, as amostras vão ser sorteadas e no novo sorteio elas podem se repetir, isso serve para simular novos conjuntos de dados.<br>\n",
    "\n",
    "#### max_leaf_nodes - Limita a quantidade de folhas consideradas, quando o número de folhas for atingido, o processo será finalizado.<br>\n",
    "\n",
    "#### min_impurity_decrease - Só faz divisão de nó se essa divisão for induzir uma diminuição da impureza maior ou igual a esse valor.<br>\n",
    "\n",
    "\n",
    "Valores padrões:<br>\n",
    "n_estimators: 100<br>\n",
    "criterion: 'gini'<br>\n",
    "max_depth: None<br>\n",
    "min_samples_split: 2<br>\n",
    "min_samples_leaf: 1<br>\n",
    "max_features: 'auto'<br>\n",
    "max_leaf_nodes: None<br>\n",
    "min_impurity_decrease: 0.0"
   ]
  }
 ],
 "metadata": {
  "kernelspec": {
   "display_name": "Python 3 (ipykernel)",
   "language": "python",
   "name": "python3"
  },
  "language_info": {
   "codemirror_mode": {
    "name": "ipython",
    "version": 3
   },
   "file_extension": ".py",
   "mimetype": "text/x-python",
   "name": "python",
   "nbconvert_exporter": "python",
   "pygments_lexer": "ipython3",
   "version": "3.11.4"
  }
 },
 "nbformat": 4,
 "nbformat_minor": 5
}
