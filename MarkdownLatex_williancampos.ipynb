{
 "cells": [
  {
   "cell_type": "markdown",
   "id": "befdf7c1",
   "metadata": {},
   "source": [
    "### <font color=dodgerblue>Fórmula de Bhaskara</font>\n",
    "\n",
    "A solução para uma função de segundo grau depende das suas raízes (valores de x). Como já vimos, os coeficientes precisam ser números reais e o coeficiente angular diferente de zero. Sendo assim, temos a seguinte fórmula de Bhaskara:<br><br>\n",
    "\n",
    "$$x = \\Huge\\frac{-b \\pm \\sqrt{b^2 - 4ac}}{2a}$$\n",
    "<center><strong>Fórmula de Bhaskara.</strong></center><br>\n",
    "\n",
    "Para melhor compreensão o seu cálculo é dividido em duas partes: discriminante da equação e operações para determinar as raízes.<br><br>\n",
    "\n",
    "**Discriminante**\n",
    "A figura dentro da raiz na fórmula de Bhaskara é nomeada de discriminante. Seu símbolo é a letra grega delta e apresenta a determinada fórmula:<br><br>\n",
    "$$\\Huge \\Delta = b^2 - 4ac$$\n",
    "<center><strong>Fórmula da Discriminante.</strong></center><br>\n",
    "\n",
    "* Se o delta for maior que zero, a equação terá dois valores reais e distintos.\n",
    "* Se o delta for igual a zero, a equação terá somente um valor real ou dois resultados iguais.\n",
    "* Se o delto for menor que zero, a equação não possuirá valores reais."
   ]
  },
  {
   "cell_type": "code",
   "execution_count": null,
   "id": "b18f16d9",
   "metadata": {},
   "outputs": [],
   "source": []
  }
 ],
 "metadata": {
  "kernelspec": {
   "display_name": "Python 3 (ipykernel)",
   "language": "python",
   "name": "python3"
  },
  "language_info": {
   "codemirror_mode": {
    "name": "ipython",
    "version": 3
   },
   "file_extension": ".py",
   "mimetype": "text/x-python",
   "name": "python",
   "nbconvert_exporter": "python",
   "pygments_lexer": "ipython3",
   "version": "3.11.4"
  }
 },
 "nbformat": 4,
 "nbformat_minor": 5
}
